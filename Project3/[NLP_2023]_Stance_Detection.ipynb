{
  "cells": [
    {
      "cell_type": "code",
      "execution_count": 1,
      "metadata": {
        "colab": {
          "base_uri": "https://localhost:8080/"
        },
        "id": "IeV_mUwu5qqm",
        "outputId": "8a503a5a-81b4-45fe-b19a-d442a65ebe75"
      },
      "outputs": [
        {
          "data": {
            "text/plain": [
              "500660"
            ]
          },
          "execution_count": 1,
          "metadata": {},
          "output_type": "execute_result"
        }
      ],
      "source": [
        "import requests\n",
        "\n",
        "remote_url = \"https://raw.githubusercontent.com/hhhuang/nlp2019fall/master/classification/\"\n",
        "\n",
        "r = requests.get(remote_url + \"train.csv\", allow_redirects=True)\n",
        "open('stance-detection-train.csv', 'wb').write(r.content)\n",
        "\n",
        "r = requests.get(remote_url + \"test.csv\", allow_redirects=True)\n",
        "open('stance-detection-test.csv', 'wb').write(r.content)\n"
      ]
    },
    {
      "cell_type": "code",
      "execution_count": 2,
      "metadata": {
        "colab": {
          "base_uri": "https://localhost:8080/"
        },
        "id": "Gj7w56jPgBQb",
        "outputId": "ae18ce67-012a-4dc1-d716-836b90f129d5"
      },
      "outputs": [
        {
          "name": "stdout",
          "output_type": "stream",
          "text": [
            "Counter({'AGAINST': 1014, 'NONE': 490, 'FAVOR': 452})\n",
            "Counter({'Donald Trump': 707, 'Hillary Clinton': 295, 'Feminist Movement': 285, 'Legalization of Abortion': 280, 'Atheism': 220, 'Climate Change is a Real Concern': 169})\n"
          ]
        }
      ],
      "source": [
        "import csv\n",
        "from collections import Counter\n",
        "\n",
        "# Training data\n",
        "\n",
        "fin = open(\"stance-detection-train.csv\")\n",
        "# Test data\n",
        "fin = open(\"stance-detection-test.csv\")\n",
        "\n",
        "\n",
        "reader = csv.DictReader(fin)\n",
        "labels = Counter()\n",
        "targets = Counter()\n",
        "for line in reader:\n",
        "    labels[line['Stance']] += 1\n",
        "    targets[line['Target']] += 1\n",
        "print(labels)\n",
        "print(targets)"
      ]
    },
    {
      "cell_type": "code",
      "execution_count": 3,
      "metadata": {
        "colab": {
          "base_uri": "https://localhost:8080/"
        },
        "id": "xtvh85DPol5h",
        "outputId": "9d181292-bcf7-49e7-eb8d-6625b058c331"
      },
      "outputs": [
        {
          "name": "stdout",
          "output_type": "stream",
          "text": [
            "Requirement already satisfied: transformers==4.28.0 in /home/ttsai/anaconda3/envs/nlp_final/lib/python3.8/site-packages (4.28.0)\n",
            "Requirement already satisfied: tqdm>=4.27 in /home/ttsai/anaconda3/envs/nlp_final/lib/python3.8/site-packages (from transformers==4.28.0) (4.65.0)\n",
            "Requirement already satisfied: huggingface-hub<1.0,>=0.11.0 in /home/ttsai/anaconda3/envs/nlp_final/lib/python3.8/site-packages (from transformers==4.28.0) (0.14.1)\n",
            "Requirement already satisfied: requests in /home/ttsai/anaconda3/envs/nlp_final/lib/python3.8/site-packages (from transformers==4.28.0) (2.30.0)\n",
            "Requirement already satisfied: tokenizers!=0.11.3,<0.14,>=0.11.1 in /home/ttsai/anaconda3/envs/nlp_final/lib/python3.8/site-packages (from transformers==4.28.0) (0.11.6)\n",
            "Requirement already satisfied: pyyaml>=5.1 in /home/ttsai/anaconda3/envs/nlp_final/lib/python3.8/site-packages (from transformers==4.28.0) (6.0)\n",
            "Requirement already satisfied: numpy>=1.17 in /home/ttsai/anaconda3/envs/nlp_final/lib/python3.8/site-packages (from transformers==4.28.0) (1.24.3)\n",
            "Requirement already satisfied: regex!=2019.12.17 in /home/ttsai/anaconda3/envs/nlp_final/lib/python3.8/site-packages (from transformers==4.28.0) (2023.5.5)\n",
            "Requirement already satisfied: filelock in /home/ttsai/anaconda3/envs/nlp_final/lib/python3.8/site-packages (from transformers==4.28.0) (3.12.0)\n",
            "Requirement already satisfied: packaging>=20.0 in /home/ttsai/anaconda3/envs/nlp_final/lib/python3.8/site-packages (from transformers==4.28.0) (23.1)\n",
            "Requirement already satisfied: typing-extensions>=3.7.4.3 in /home/ttsai/anaconda3/envs/nlp_final/lib/python3.8/site-packages (from huggingface-hub<1.0,>=0.11.0->transformers==4.28.0) (4.5.0)\n",
            "Requirement already satisfied: fsspec in /home/ttsai/anaconda3/envs/nlp_final/lib/python3.8/site-packages (from huggingface-hub<1.0,>=0.11.0->transformers==4.28.0) (2023.5.0)\n",
            "Requirement already satisfied: charset-normalizer<4,>=2 in /home/ttsai/anaconda3/envs/nlp_final/lib/python3.8/site-packages (from requests->transformers==4.28.0) (3.1.0)\n",
            "Requirement already satisfied: certifi>=2017.4.17 in /home/ttsai/anaconda3/envs/nlp_final/lib/python3.8/site-packages (from requests->transformers==4.28.0) (2023.5.7)\n",
            "Requirement already satisfied: urllib3<3,>=1.21.1 in /home/ttsai/anaconda3/envs/nlp_final/lib/python3.8/site-packages (from requests->transformers==4.28.0) (2.0.2)\n",
            "Requirement already satisfied: idna<4,>=2.5 in /home/ttsai/anaconda3/envs/nlp_final/lib/python3.8/site-packages (from requests->transformers==4.28.0) (3.4)\n",
            "Requirement already satisfied: datasets in /home/ttsai/anaconda3/envs/nlp_final/lib/python3.8/site-packages (2.12.0)\n",
            "Requirement already satisfied: pandas in /home/ttsai/anaconda3/envs/nlp_final/lib/python3.8/site-packages (from datasets) (1.5.3)\n",
            "Requirement already satisfied: pyarrow>=8.0.0 in /home/ttsai/anaconda3/envs/nlp_final/lib/python3.8/site-packages (from datasets) (12.0.0)\n",
            "Requirement already satisfied: aiohttp in /home/ttsai/anaconda3/envs/nlp_final/lib/python3.8/site-packages (from datasets) (3.8.4)\n",
            "Requirement already satisfied: pyyaml>=5.1 in /home/ttsai/anaconda3/envs/nlp_final/lib/python3.8/site-packages (from datasets) (6.0)\n",
            "Requirement already satisfied: requests>=2.19.0 in /home/ttsai/anaconda3/envs/nlp_final/lib/python3.8/site-packages (from datasets) (2.30.0)\n",
            "Requirement already satisfied: numpy>=1.17 in /home/ttsai/anaconda3/envs/nlp_final/lib/python3.8/site-packages (from datasets) (1.24.3)\n",
            "Requirement already satisfied: multiprocess in /home/ttsai/anaconda3/envs/nlp_final/lib/python3.8/site-packages (from datasets) (0.70.14)\n",
            "Requirement already satisfied: huggingface-hub<1.0.0,>=0.11.0 in /home/ttsai/anaconda3/envs/nlp_final/lib/python3.8/site-packages (from datasets) (0.14.1)\n",
            "Requirement already satisfied: xxhash in /home/ttsai/anaconda3/envs/nlp_final/lib/python3.8/site-packages (from datasets) (3.2.0)\n",
            "Requirement already satisfied: tqdm>=4.62.1 in /home/ttsai/anaconda3/envs/nlp_final/lib/python3.8/site-packages (from datasets) (4.65.0)\n",
            "Requirement already satisfied: dill<0.3.7,>=0.3.0 in /home/ttsai/anaconda3/envs/nlp_final/lib/python3.8/site-packages (from datasets) (0.3.6)\n",
            "Requirement already satisfied: fsspec[http]>=2021.11.1 in /home/ttsai/anaconda3/envs/nlp_final/lib/python3.8/site-packages (from datasets) (2023.5.0)\n",
            "Requirement already satisfied: packaging in /home/ttsai/anaconda3/envs/nlp_final/lib/python3.8/site-packages (from datasets) (23.1)\n",
            "Requirement already satisfied: responses<0.19 in /home/ttsai/anaconda3/envs/nlp_final/lib/python3.8/site-packages (from datasets) (0.18.0)\n",
            "Requirement already satisfied: aiosignal>=1.1.2 in /home/ttsai/anaconda3/envs/nlp_final/lib/python3.8/site-packages (from aiohttp->datasets) (1.3.1)\n",
            "Requirement already satisfied: yarl<2.0,>=1.0 in /home/ttsai/anaconda3/envs/nlp_final/lib/python3.8/site-packages (from aiohttp->datasets) (1.9.2)\n",
            "Requirement already satisfied: attrs>=17.3.0 in /home/ttsai/anaconda3/envs/nlp_final/lib/python3.8/site-packages (from aiohttp->datasets) (23.1.0)\n",
            "Requirement already satisfied: frozenlist>=1.1.1 in /home/ttsai/anaconda3/envs/nlp_final/lib/python3.8/site-packages (from aiohttp->datasets) (1.3.3)\n",
            "Requirement already satisfied: multidict<7.0,>=4.5 in /home/ttsai/anaconda3/envs/nlp_final/lib/python3.8/site-packages (from aiohttp->datasets) (6.0.4)\n",
            "Requirement already satisfied: charset-normalizer<4.0,>=2.0 in /home/ttsai/anaconda3/envs/nlp_final/lib/python3.8/site-packages (from aiohttp->datasets) (3.1.0)\n",
            "Requirement already satisfied: async-timeout<5.0,>=4.0.0a3 in /home/ttsai/anaconda3/envs/nlp_final/lib/python3.8/site-packages (from aiohttp->datasets) (4.0.2)\n",
            "Requirement already satisfied: typing-extensions>=3.7.4.3 in /home/ttsai/anaconda3/envs/nlp_final/lib/python3.8/site-packages (from huggingface-hub<1.0.0,>=0.11.0->datasets) (4.5.0)\n",
            "Requirement already satisfied: filelock in /home/ttsai/anaconda3/envs/nlp_final/lib/python3.8/site-packages (from huggingface-hub<1.0.0,>=0.11.0->datasets) (3.12.0)\n",
            "Requirement already satisfied: idna<4,>=2.5 in /home/ttsai/anaconda3/envs/nlp_final/lib/python3.8/site-packages (from requests>=2.19.0->datasets) (3.4)\n",
            "Requirement already satisfied: certifi>=2017.4.17 in /home/ttsai/anaconda3/envs/nlp_final/lib/python3.8/site-packages (from requests>=2.19.0->datasets) (2023.5.7)\n",
            "Requirement already satisfied: urllib3<3,>=1.21.1 in /home/ttsai/anaconda3/envs/nlp_final/lib/python3.8/site-packages (from requests>=2.19.0->datasets) (2.0.2)\n",
            "Requirement already satisfied: pytz>=2020.1 in /home/ttsai/anaconda3/envs/nlp_final/lib/python3.8/site-packages (from pandas->datasets) (2023.3)\n",
            "Requirement already satisfied: python-dateutil>=2.8.1 in /home/ttsai/anaconda3/envs/nlp_final/lib/python3.8/site-packages (from pandas->datasets) (2.8.2)\n",
            "Requirement already satisfied: six>=1.5 in /home/ttsai/anaconda3/envs/nlp_final/lib/python3.8/site-packages (from python-dateutil>=2.8.1->pandas->datasets) (1.16.0)\n",
            "Requirement already satisfied: torch in /home/ttsai/anaconda3/envs/nlp_final/lib/python3.8/site-packages (1.13.1+cu116)\n",
            "Requirement already satisfied: typing-extensions in /home/ttsai/anaconda3/envs/nlp_final/lib/python3.8/site-packages (from torch) (4.5.0)\n",
            "Requirement already satisfied: tqdm in /home/ttsai/anaconda3/envs/nlp_final/lib/python3.8/site-packages (4.65.0)\n",
            "Requirement already satisfied: evaluate in /home/ttsai/anaconda3/envs/nlp_final/lib/python3.8/site-packages (0.4.0)\n",
            "Requirement already satisfied: datasets>=2.0.0 in /home/ttsai/anaconda3/envs/nlp_final/lib/python3.8/site-packages (from evaluate) (2.12.0)\n",
            "Requirement already satisfied: requests>=2.19.0 in /home/ttsai/anaconda3/envs/nlp_final/lib/python3.8/site-packages (from evaluate) (2.30.0)\n",
            "Requirement already satisfied: multiprocess in /home/ttsai/anaconda3/envs/nlp_final/lib/python3.8/site-packages (from evaluate) (0.70.14)\n",
            "Requirement already satisfied: tqdm>=4.62.1 in /home/ttsai/anaconda3/envs/nlp_final/lib/python3.8/site-packages (from evaluate) (4.65.0)\n",
            "Requirement already satisfied: huggingface-hub>=0.7.0 in /home/ttsai/anaconda3/envs/nlp_final/lib/python3.8/site-packages (from evaluate) (0.14.1)\n",
            "Requirement already satisfied: pandas in /home/ttsai/anaconda3/envs/nlp_final/lib/python3.8/site-packages (from evaluate) (1.5.3)\n",
            "Requirement already satisfied: packaging in /home/ttsai/anaconda3/envs/nlp_final/lib/python3.8/site-packages (from evaluate) (23.1)\n",
            "Requirement already satisfied: responses<0.19 in /home/ttsai/anaconda3/envs/nlp_final/lib/python3.8/site-packages (from evaluate) (0.18.0)\n",
            "Requirement already satisfied: fsspec[http]>=2021.05.0 in /home/ttsai/anaconda3/envs/nlp_final/lib/python3.8/site-packages (from evaluate) (2023.5.0)\n",
            "Requirement already satisfied: numpy>=1.17 in /home/ttsai/anaconda3/envs/nlp_final/lib/python3.8/site-packages (from evaluate) (1.24.3)\n",
            "Requirement already satisfied: dill in /home/ttsai/anaconda3/envs/nlp_final/lib/python3.8/site-packages (from evaluate) (0.3.6)\n",
            "Requirement already satisfied: xxhash in /home/ttsai/anaconda3/envs/nlp_final/lib/python3.8/site-packages (from evaluate) (3.2.0)\n",
            "Requirement already satisfied: pyarrow>=8.0.0 in /home/ttsai/anaconda3/envs/nlp_final/lib/python3.8/site-packages (from datasets>=2.0.0->evaluate) (12.0.0)\n",
            "Requirement already satisfied: aiohttp in /home/ttsai/anaconda3/envs/nlp_final/lib/python3.8/site-packages (from datasets>=2.0.0->evaluate) (3.8.4)\n",
            "Requirement already satisfied: pyyaml>=5.1 in /home/ttsai/anaconda3/envs/nlp_final/lib/python3.8/site-packages (from datasets>=2.0.0->evaluate) (6.0)\n",
            "Requirement already satisfied: typing-extensions>=3.7.4.3 in /home/ttsai/anaconda3/envs/nlp_final/lib/python3.8/site-packages (from huggingface-hub>=0.7.0->evaluate) (4.5.0)\n",
            "Requirement already satisfied: filelock in /home/ttsai/anaconda3/envs/nlp_final/lib/python3.8/site-packages (from huggingface-hub>=0.7.0->evaluate) (3.12.0)\n",
            "Requirement already satisfied: idna<4,>=2.5 in /home/ttsai/anaconda3/envs/nlp_final/lib/python3.8/site-packages (from requests>=2.19.0->evaluate) (3.4)\n",
            "Requirement already satisfied: charset-normalizer<4,>=2 in /home/ttsai/anaconda3/envs/nlp_final/lib/python3.8/site-packages (from requests>=2.19.0->evaluate) (3.1.0)\n",
            "Requirement already satisfied: urllib3<3,>=1.21.1 in /home/ttsai/anaconda3/envs/nlp_final/lib/python3.8/site-packages (from requests>=2.19.0->evaluate) (2.0.2)\n",
            "Requirement already satisfied: certifi>=2017.4.17 in /home/ttsai/anaconda3/envs/nlp_final/lib/python3.8/site-packages (from requests>=2.19.0->evaluate) (2023.5.7)\n",
            "Requirement already satisfied: python-dateutil>=2.8.1 in /home/ttsai/anaconda3/envs/nlp_final/lib/python3.8/site-packages (from pandas->evaluate) (2.8.2)\n",
            "Requirement already satisfied: pytz>=2020.1 in /home/ttsai/anaconda3/envs/nlp_final/lib/python3.8/site-packages (from pandas->evaluate) (2023.3)\n",
            "Requirement already satisfied: attrs>=17.3.0 in /home/ttsai/anaconda3/envs/nlp_final/lib/python3.8/site-packages (from aiohttp->datasets>=2.0.0->evaluate) (23.1.0)\n",
            "Requirement already satisfied: aiosignal>=1.1.2 in /home/ttsai/anaconda3/envs/nlp_final/lib/python3.8/site-packages (from aiohttp->datasets>=2.0.0->evaluate) (1.3.1)\n",
            "Requirement already satisfied: frozenlist>=1.1.1 in /home/ttsai/anaconda3/envs/nlp_final/lib/python3.8/site-packages (from aiohttp->datasets>=2.0.0->evaluate) (1.3.3)\n",
            "Requirement already satisfied: async-timeout<5.0,>=4.0.0a3 in /home/ttsai/anaconda3/envs/nlp_final/lib/python3.8/site-packages (from aiohttp->datasets>=2.0.0->evaluate) (4.0.2)\n",
            "Requirement already satisfied: multidict<7.0,>=4.5 in /home/ttsai/anaconda3/envs/nlp_final/lib/python3.8/site-packages (from aiohttp->datasets>=2.0.0->evaluate) (6.0.4)\n",
            "Requirement already satisfied: yarl<2.0,>=1.0 in /home/ttsai/anaconda3/envs/nlp_final/lib/python3.8/site-packages (from aiohttp->datasets>=2.0.0->evaluate) (1.9.2)\n",
            "Requirement already satisfied: six>=1.5 in /home/ttsai/anaconda3/envs/nlp_final/lib/python3.8/site-packages (from python-dateutil>=2.8.1->pandas->evaluate) (1.16.0)\n",
            "Requirement already satisfied: pandas in /home/ttsai/anaconda3/envs/nlp_final/lib/python3.8/site-packages (1.5.3)\n",
            "Requirement already satisfied: numpy>=1.20.3 in /home/ttsai/anaconda3/envs/nlp_final/lib/python3.8/site-packages (from pandas) (1.24.3)\n",
            "Requirement already satisfied: python-dateutil>=2.8.1 in /home/ttsai/anaconda3/envs/nlp_final/lib/python3.8/site-packages (from pandas) (2.8.2)\n",
            "Requirement already satisfied: pytz>=2020.1 in /home/ttsai/anaconda3/envs/nlp_final/lib/python3.8/site-packages (from pandas) (2023.3)\n",
            "Requirement already satisfied: six>=1.5 in /home/ttsai/anaconda3/envs/nlp_final/lib/python3.8/site-packages (from python-dateutil>=2.8.1->pandas) (1.16.0)\n",
            "Requirement already satisfied: accelerate in /home/ttsai/anaconda3/envs/nlp_final/lib/python3.8/site-packages (0.20.3)\n",
            "Requirement already satisfied: packaging>=20.0 in /home/ttsai/anaconda3/envs/nlp_final/lib/python3.8/site-packages (from accelerate) (23.1)\n",
            "Requirement already satisfied: numpy>=1.17 in /home/ttsai/anaconda3/envs/nlp_final/lib/python3.8/site-packages (from accelerate) (1.24.3)\n",
            "Requirement already satisfied: psutil in /home/ttsai/anaconda3/envs/nlp_final/lib/python3.8/site-packages (from accelerate) (5.9.0)\n",
            "Requirement already satisfied: pyyaml in /home/ttsai/anaconda3/envs/nlp_final/lib/python3.8/site-packages (from accelerate) (6.0)\n",
            "Requirement already satisfied: torch>=1.6.0 in /home/ttsai/anaconda3/envs/nlp_final/lib/python3.8/site-packages (from accelerate) (1.13.1+cu116)\n",
            "Requirement already satisfied: typing-extensions in /home/ttsai/anaconda3/envs/nlp_final/lib/python3.8/site-packages (from torch>=1.6.0->accelerate) (4.5.0)\n"
          ]
        }
      ],
      "source": [
        "! pip install transformers==4.28.0\n",
        "! pip install datasets\n",
        "! pip install torch\n",
        "! pip install tqdm\n",
        "! pip install evaluate\n",
        "! pip install pandas\n",
        "! pip install --upgrade accelerate"
      ]
    },
    {
      "cell_type": "code",
      "execution_count": 4,
      "metadata": {
        "id": "iwrOfm0UjNt1"
      },
      "outputs": [],
      "source": [
        "import csv\n",
        "\n",
        "from collections import defaultdict, Counter\n",
        "\n",
        "import transformers\n",
        "from transformers import AutoTokenizer, AutoModelForSequenceClassification, AutoModel, AutoConfig\n",
        "from transformers import TrainingArguments, Trainer\n",
        "from transformers import get_scheduler\n",
        "\n",
        "import torch\n",
        "from torch.utils.data import DataLoader\n",
        "from torch.optim import AdamW\n",
        "from torch import nn\n",
        "\n",
        "from datasets import Dataset\n",
        "import evaluate\n",
        "import pandas as pd\n",
        "import numpy as np"
      ]
    },
    {
      "cell_type": "code",
      "execution_count": 5,
      "metadata": {
        "id": "RhQwT0eOYBw0"
      },
      "outputs": [],
      "source": [
        "device = torch.device(\"cuda\") if torch.cuda.is_available() else torch.device(\"cpu\")"
      ]
    },
    {
      "attachments": {},
      "cell_type": "markdown",
      "metadata": {
        "id": "j0QKzrVZKA8W"
      },
      "source": [
        "# Assignment III 修改區\n",
        "請修改下方的程式碼，使得 F1 越高越好"
      ]
    },
    {
      "cell_type": "code",
      "execution_count": 33,
      "metadata": {
        "id": "wjRuGtiWiIbN"
      },
      "outputs": [],
      "source": [
        "from transformers import TextClassificationPipeline\n",
        "from transformers import AdamW, get_linear_schedule_with_warmup\n",
        "\n",
        "\n",
        "class StanceDetectionModel:\n",
        "    def __init__(self):\n",
        "        self.test_data = \"stance-detection-test.csv\"\n",
        "        self.training_data = \"stance-detection-train.csv\"\n",
        "        self.model_path = \"trained_model\"\n",
        "        self.stance_label_mapping = {'AGAINST': 0, 'NONE': 1, 'FAVOR': 2}\n",
        "        self.inverted_stance_label_mapping = {v: k for k, v in self.stance_label_mapping.items()}\n",
        "\n",
        "    def create_model(self, load_trained=False):\n",
        "        pretrained_model = \"vinai/bertweet-base\"\n",
        "        self.tokenizer = AutoTokenizer.from_pretrained(pretrained_model)\n",
        "        self.model = AutoModelForSequenceClassification.from_pretrained(pretrained_model, num_labels=3)        \n",
        "            \n",
        "    def load_tweet_data(self, filename):\n",
        "        \"\"\" Data source: https://alt.qcri.org/semeval2016/task6/index.php?id=data-and-tools \"\"\"\n",
        "        import csv\n",
        "        reader = csv.DictReader(open(filename))    # The original released dataset was encoded in ISO-8859-1. The attached version has been changed to utf8 for universality. \n",
        "        cnt = 0\n",
        "        for row in reader:\n",
        "            cnt += 1\n",
        "            labels = [0.0] * 3\n",
        "            labels[self.stance_label_mapping[row['Stance']]] = 1.0\n",
        "            yield {'labels': labels, 'text': row['Tweet']}            \n",
        "        \n",
        "    def tokenize_dataset(self, data):\n",
        "        return self.tokenizer(data['text'], return_tensors='pt', truncation=True, padding='max_length', max_length=280)\n",
        "    \n",
        "    def compute_metrics(self, eval_pred):\n",
        "        logits, labels = eval_pred\n",
        "        predictions, references = [], []\n",
        "        for i in range(len(logits)):\n",
        "            predictions.append(np.argmax(logits[i][:3]))\n",
        "            references.append(np.argmax(labels[i][:3]))\n",
        "        #predictions = np.argmax(logits, axis=-1)\n",
        "        # Following the evaluation of SemEval-2016, only the F-scores of Favour (2) and Against (0) are measured. \n",
        "        return self.metric.compute(predictions=predictions, references=references, labels=[0, 2], average='macro')\n",
        "\n",
        "    def train(self):\n",
        "        #stances = ['Hillary Clinton', 'Feminist Movement', 'Legalization of Abortion', 'Atheism', 'Climate Change is a Real Concern', 'Donald Trump']\n",
        "        self.create_model()\n",
        "        load_training_data = lambda: self.load_tweet_data(self.training_data)\n",
        "        load_test_data = lambda: self.load_tweet_data(self.test_data)\n",
        "        training_data = Dataset.from_generator(load_training_data).shuffle(seed=42).map(self.tokenize_dataset, batched=True)\n",
        "        test_data = Dataset.from_generator(load_test_data).map(self.tokenize_dataset, batched=True)\n",
        "                   \n",
        "  \n",
        "        training_args = TrainingArguments(\n",
        "            output_dir=\"test_trainer\", \n",
        "            evaluation_strategy=\"epoch\",\n",
        "            num_train_epochs=10,\n",
        "            per_device_train_batch_size=24,\n",
        "            per_device_eval_batch_size=24,\n",
        "            load_best_model_at_end=True,\n",
        "            save_strategy='epoch',            \n",
        "            metric_for_best_model='f1'                  \n",
        "            # scheduler = get_linear_schedule_with_warmup(AdamW(self.model.parameters(), lr=1e-5), num_warmup_steps=0, num_training_steps=len(training_data) * training_args.num_train_epochs)\n",
        "            # learning_rate=2e-5,\n",
        "            # weight_decay=0.01,\n",
        "            # adam_epsilon=1e-8,\n",
        "        )\n",
        "\n",
        "        optimizer = AdamW(self.model.parameters(), lr=1e-5)\n",
        "        total_steps = len(training_data) * training_args.num_train_epochs\n",
        "        scheduler = get_linear_schedule_with_warmup(\n",
        "            optimizer,\n",
        "            num_warmup_steps=0,\n",
        "            num_training_steps=total_steps\n",
        "        )\n",
        "        training_args.optimizers = (optimizer, scheduler)\n",
        "        \n",
        "        self.metric = evaluate.load(\"f1\")\n",
        "        self.trainer = Trainer(\n",
        "            model=self.model,\n",
        "            args=training_args,\n",
        "            train_dataset=training_data,\n",
        "            eval_dataset=test_data,\n",
        "            compute_metrics=self.compute_metrics,\n",
        "        )\n",
        "        self.trainer.train()\n",
        "        self.trainer.save_model()\n",
        "\n",
        "    def evaluate(self):\n",
        "        return self.trainer.evaluate()\n",
        "        \n",
        "    def predict(self, instances):\n",
        "        device = self.model.device\n",
        "        self.model.to(device)\n",
        "        self.model.eval()\n",
        "        predictions = []\n",
        "        for instance in instances:\n",
        "            inputs = self.tokenizer.encode_plus(\n",
        "                instance[\"text\"],\n",
        "                add_special_tokens=True,\n",
        "                return_tensors=\"pt\",\n",
        "                padding=\"longest\",\n",
        "                truncation=True,\n",
        "                max_length=512,  \n",
        "            )\n",
        "            inputs = inputs.to(device)\n",
        "            with torch.no_grad():\n",
        "                outputs = self.model(**inputs)\n",
        "                logits = outputs.logits\n",
        "            predicted_label = torch.argmax(logits, dim=1).item()\n",
        "            predicted_stance = self.inverted_stance_label_mapping[predicted_label]\n",
        "            predictions.append(predicted_stance)\n",
        "        return predictions\n"
      ]
    },
    {
      "cell_type": "code",
      "execution_count": 34,
      "metadata": {
        "colab": {
          "base_uri": "https://localhost:8080/",
          "height": 605,
          "referenced_widgets": [
            "6f4fc72162f0448f82abbeff69012339",
            "31bd23734443449cad826d3c09b800a0",
            "f33790eb9b284ac0890f7c6685a79ecb",
            "1b83741a7fe8433691106234136d7481",
            "800b3d9d7ee44c0580b2c41a71a33cef",
            "474d166dd47e45aa9956a54aad3c1562",
            "2f9f324946e34decb3fe67bce420ec39",
            "d6073315d717412db888cce35c0f32a0",
            "18c807fe5d3b4cf082d34ca9d5ef5758",
            "16c47dc4ff014660a4c92a91ab60f023",
            "a144dcd042c04e4cbc1320e85c663fde",
            "7f2e32fa41804c9086af478bb13056c7",
            "114f9a3afdf04eed8e2ff93fd61d024b",
            "2605341d2beb4d5689f404c33ae5d186",
            "9d6630609d324d589a50c6bdab88e22c",
            "92b736d3e59c4743b4090bedf440d14f",
            "e8821de1d87e407abcc2c667694471db",
            "0fb59670ca124494aa4b3b425c2873cc",
            "6f6380b1a7024a08998f815ff5b9c02a",
            "8af08cf26e564a3685a5069c233f69e1",
            "19f7e7c77a5344d18a2152d9c319a9b7",
            "f42f440c790342969223a33d79952523",
            "692068419a594b48b1b52331a5910020",
            "bea68335f15a4017871d2252f81d7ee8",
            "f300ec53906545ea918cab931ca0d8be",
            "5f0cd32affdf4f3897fc20771e73fb29",
            "d45b1b8f0da9475f9cb0d7954ffe4b05",
            "10ecacd61a914224a36e94802bc0f8ad",
            "eaa5153945764d14bc9e361325c62c1b",
            "67d1b97b1825420dbc9829571b7f6b61",
            "fb4d88668d084a668a9666f41fe2980c",
            "53f95747acda41fe8b4f71e1e59703d3",
            "55fc5020afda4e3a9684bbe3101e673b",
            "b67017da7ead4e30bd0d0d23b77855bd",
            "7201991a0d1f4d9491ec65bb29c10227",
            "4e8313bd77d741daa69dff7acb1423b3",
            "b1302247ab074d89b2afe056ffeff4e1",
            "0f92ebf57bdb45e8b775c0f1c8f3c3d7",
            "292db551725c4dcda87896849459b6b2",
            "b0ff9725eb204e8eabe6825fd295f4ed",
            "d7e98571c98c4fbb925b530778c72ccc",
            "18535cedb81440f6979d1c5852f67467",
            "3420ec059db447e5a947eaff55e12bf0",
            "0218a9b194424154b37e090ff96a8caf"
          ]
        },
        "id": "xrFUX_Rtokna",
        "outputId": "e84a8a20-7630-475f-ed2d-332101855999"
      },
      "outputs": [
        {
          "name": "stderr",
          "output_type": "stream",
          "text": [
            "emoji is not installed, thus not converting emoticons or emojis into text. Install emoji: pip3 install emoji==0.6.0\n",
            "Special tokens have been added in the vocabulary, make sure the associated word embeddings are fine-tuned or trained.\n",
            "Some weights of the model checkpoint at vinai/bertweet-base were not used when initializing RobertaForSequenceClassification: ['lm_head.dense.weight', 'lm_head.layer_norm.bias', 'lm_head.decoder.weight', 'lm_head.dense.bias', 'roberta.pooler.dense.weight', 'lm_head.decoder.bias', 'roberta.pooler.dense.bias', 'lm_head.layer_norm.weight', 'lm_head.bias']\n",
            "- This IS expected if you are initializing RobertaForSequenceClassification from the checkpoint of a model trained on another task or with another architecture (e.g. initializing a BertForSequenceClassification model from a BertForPreTraining model).\n",
            "- This IS NOT expected if you are initializing RobertaForSequenceClassification from the checkpoint of a model that you expect to be exactly identical (initializing a BertForSequenceClassification model from a BertForSequenceClassification model).\n",
            "Some weights of RobertaForSequenceClassification were not initialized from the model checkpoint at vinai/bertweet-base and are newly initialized: ['classifier.dense.bias', 'classifier.dense.weight', 'classifier.out_proj.bias', 'classifier.out_proj.weight']\n",
            "You should probably TRAIN this model on a down-stream task to be able to use it for predictions and inference.\n"
          ]
        },
        {
          "name": "stdout",
          "output_type": "stream",
          "text": [
            "Downloading and preparing dataset generator/default to /home/ttsai/.cache/huggingface/datasets/generator/default-b745610a6d34cae1/0.0.0...\n"
          ]
        },
        {
          "data": {
            "application/vnd.jupyter.widget-view+json": {
              "model_id": "4a8462bb10fb42b2838adc8334092b65",
              "version_major": 2,
              "version_minor": 0
            },
            "text/plain": [
              "Generating train split: 0 examples [00:00, ? examples/s]"
            ]
          },
          "metadata": {},
          "output_type": "display_data"
        },
        {
          "name": "stdout",
          "output_type": "stream",
          "text": [
            "Dataset generator downloaded and prepared to /home/ttsai/.cache/huggingface/datasets/generator/default-b745610a6d34cae1/0.0.0. Subsequent calls will reuse this data.\n"
          ]
        },
        {
          "data": {
            "application/vnd.jupyter.widget-view+json": {
              "model_id": "27b3fe252dc84871915595b9054f03f0",
              "version_major": 2,
              "version_minor": 0
            },
            "text/plain": [
              "Map:   0%|          | 0/2914 [00:00<?, ? examples/s]"
            ]
          },
          "metadata": {},
          "output_type": "display_data"
        },
        {
          "name": "stdout",
          "output_type": "stream",
          "text": [
            "Downloading and preparing dataset generator/default to /home/ttsai/.cache/huggingface/datasets/generator/default-822166143c45abef/0.0.0...\n"
          ]
        },
        {
          "data": {
            "application/vnd.jupyter.widget-view+json": {
              "model_id": "d0265a96e0a34abb8c284abfaea0e3f9",
              "version_major": 2,
              "version_minor": 0
            },
            "text/plain": [
              "Generating train split: 0 examples [00:00, ? examples/s]"
            ]
          },
          "metadata": {},
          "output_type": "display_data"
        },
        {
          "name": "stdout",
          "output_type": "stream",
          "text": [
            "Dataset generator downloaded and prepared to /home/ttsai/.cache/huggingface/datasets/generator/default-822166143c45abef/0.0.0. Subsequent calls will reuse this data.\n"
          ]
        },
        {
          "data": {
            "application/vnd.jupyter.widget-view+json": {
              "model_id": "ecd56ee809284f1887e695956ea63fda",
              "version_major": 2,
              "version_minor": 0
            },
            "text/plain": [
              "Map:   0%|          | 0/1956 [00:00<?, ? examples/s]"
            ]
          },
          "metadata": {},
          "output_type": "display_data"
        },
        {
          "name": "stderr",
          "output_type": "stream",
          "text": [
            "/home/ttsai/anaconda3/envs/nlp_final/lib/python3.8/site-packages/transformers/optimization.py:391: FutureWarning: This implementation of AdamW is deprecated and will be removed in a future version. Use the PyTorch implementation torch.optim.AdamW instead, or set `no_deprecation_warning=True` to disable this warning\n",
            "  warnings.warn(\n"
          ]
        },
        {
          "data": {
            "application/vnd.jupyter.widget-view+json": {
              "model_id": "5f9ead37fe7649118bd21a91b83893d0",
              "version_major": 2,
              "version_minor": 0
            },
            "text/plain": [
              "  0%|          | 0/610 [00:00<?, ?it/s]"
            ]
          },
          "metadata": {},
          "output_type": "display_data"
        },
        {
          "name": "stderr",
          "output_type": "stream",
          "text": [
            "/home/ttsai/anaconda3/envs/nlp_final/lib/python3.8/site-packages/torch/nn/parallel/_functions.py:68: UserWarning: Was asked to gather along dimension 0, but all input tensors were scalars; will instead unsqueeze and return a vector.\n",
            "  warnings.warn('Was asked to gather along dimension 0, but all '\n"
          ]
        },
        {
          "data": {
            "application/vnd.jupyter.widget-view+json": {
              "model_id": "556619f5eddf41258323af5e33c4f136",
              "version_major": 2,
              "version_minor": 0
            },
            "text/plain": [
              "  0%|          | 0/41 [00:00<?, ?it/s]"
            ]
          },
          "metadata": {},
          "output_type": "display_data"
        },
        {
          "name": "stdout",
          "output_type": "stream",
          "text": [
            "{'eval_loss': 0.5769648551940918, 'eval_f1': 0.4585494287133631, 'eval_runtime': 13.8243, 'eval_samples_per_second': 141.49, 'eval_steps_per_second': 2.966, 'epoch': 1.0}\n"
          ]
        },
        {
          "name": "stderr",
          "output_type": "stream",
          "text": [
            "/home/ttsai/anaconda3/envs/nlp_final/lib/python3.8/site-packages/torch/nn/parallel/_functions.py:68: UserWarning: Was asked to gather along dimension 0, but all input tensors were scalars; will instead unsqueeze and return a vector.\n",
            "  warnings.warn('Was asked to gather along dimension 0, but all '\n"
          ]
        },
        {
          "data": {
            "application/vnd.jupyter.widget-view+json": {
              "model_id": "588c7104425041e6baa941cd003f6c1e",
              "version_major": 2,
              "version_minor": 0
            },
            "text/plain": [
              "  0%|          | 0/41 [00:00<?, ?it/s]"
            ]
          },
          "metadata": {},
          "output_type": "display_data"
        },
        {
          "name": "stdout",
          "output_type": "stream",
          "text": [
            "{'eval_loss': 0.5602312088012695, 'eval_f1': 0.5528873847926268, 'eval_runtime': 13.8471, 'eval_samples_per_second': 141.257, 'eval_steps_per_second': 2.961, 'epoch': 2.0}\n"
          ]
        },
        {
          "name": "stderr",
          "output_type": "stream",
          "text": [
            "/home/ttsai/anaconda3/envs/nlp_final/lib/python3.8/site-packages/torch/nn/parallel/_functions.py:68: UserWarning: Was asked to gather along dimension 0, but all input tensors were scalars; will instead unsqueeze and return a vector.\n",
            "  warnings.warn('Was asked to gather along dimension 0, but all '\n"
          ]
        },
        {
          "data": {
            "application/vnd.jupyter.widget-view+json": {
              "model_id": "227bcbea1b0b4e34841546b42e053230",
              "version_major": 2,
              "version_minor": 0
            },
            "text/plain": [
              "  0%|          | 0/41 [00:00<?, ?it/s]"
            ]
          },
          "metadata": {},
          "output_type": "display_data"
        },
        {
          "name": "stdout",
          "output_type": "stream",
          "text": [
            "{'eval_loss': 0.558013379573822, 'eval_f1': 0.612446064808484, 'eval_runtime': 13.8496, 'eval_samples_per_second': 141.231, 'eval_steps_per_second': 2.96, 'epoch': 3.0}\n"
          ]
        },
        {
          "name": "stderr",
          "output_type": "stream",
          "text": [
            "/home/ttsai/anaconda3/envs/nlp_final/lib/python3.8/site-packages/torch/nn/parallel/_functions.py:68: UserWarning: Was asked to gather along dimension 0, but all input tensors were scalars; will instead unsqueeze and return a vector.\n",
            "  warnings.warn('Was asked to gather along dimension 0, but all '\n"
          ]
        },
        {
          "data": {
            "application/vnd.jupyter.widget-view+json": {
              "model_id": "7ff0046840c44071928dc532c9894396",
              "version_major": 2,
              "version_minor": 0
            },
            "text/plain": [
              "  0%|          | 0/41 [00:00<?, ?it/s]"
            ]
          },
          "metadata": {},
          "output_type": "display_data"
        },
        {
          "name": "stdout",
          "output_type": "stream",
          "text": [
            "{'eval_loss': 0.6262676119804382, 'eval_f1': 0.5853710911974908, 'eval_runtime': 13.8602, 'eval_samples_per_second': 141.123, 'eval_steps_per_second': 2.958, 'epoch': 4.0}\n"
          ]
        },
        {
          "name": "stderr",
          "output_type": "stream",
          "text": [
            "/home/ttsai/anaconda3/envs/nlp_final/lib/python3.8/site-packages/torch/nn/parallel/_functions.py:68: UserWarning: Was asked to gather along dimension 0, but all input tensors were scalars; will instead unsqueeze and return a vector.\n",
            "  warnings.warn('Was asked to gather along dimension 0, but all '\n"
          ]
        },
        {
          "data": {
            "application/vnd.jupyter.widget-view+json": {
              "model_id": "208cbf86976b4113814bd82bf150d7b8",
              "version_major": 2,
              "version_minor": 0
            },
            "text/plain": [
              "  0%|          | 0/41 [00:00<?, ?it/s]"
            ]
          },
          "metadata": {},
          "output_type": "display_data"
        },
        {
          "name": "stdout",
          "output_type": "stream",
          "text": [
            "{'eval_loss': 0.647953450679779, 'eval_f1': 0.6035047382982694, 'eval_runtime': 13.8784, 'eval_samples_per_second': 140.938, 'eval_steps_per_second': 2.954, 'epoch': 5.0}\n"
          ]
        },
        {
          "name": "stderr",
          "output_type": "stream",
          "text": [
            "/home/ttsai/anaconda3/envs/nlp_final/lib/python3.8/site-packages/torch/nn/parallel/_functions.py:68: UserWarning: Was asked to gather along dimension 0, but all input tensors were scalars; will instead unsqueeze and return a vector.\n",
            "  warnings.warn('Was asked to gather along dimension 0, but all '\n"
          ]
        },
        {
          "data": {
            "application/vnd.jupyter.widget-view+json": {
              "model_id": "08e16fd49ad64f22a85cb9933bcbab18",
              "version_major": 2,
              "version_minor": 0
            },
            "text/plain": [
              "  0%|          | 0/41 [00:00<?, ?it/s]"
            ]
          },
          "metadata": {},
          "output_type": "display_data"
        },
        {
          "name": "stdout",
          "output_type": "stream",
          "text": [
            "{'eval_loss': 0.7702760100364685, 'eval_f1': 0.593139798732155, 'eval_runtime': 13.878, 'eval_samples_per_second': 140.943, 'eval_steps_per_second': 2.954, 'epoch': 6.0}\n"
          ]
        },
        {
          "name": "stderr",
          "output_type": "stream",
          "text": [
            "/home/ttsai/anaconda3/envs/nlp_final/lib/python3.8/site-packages/torch/nn/parallel/_functions.py:68: UserWarning: Was asked to gather along dimension 0, but all input tensors were scalars; will instead unsqueeze and return a vector.\n",
            "  warnings.warn('Was asked to gather along dimension 0, but all '\n"
          ]
        },
        {
          "data": {
            "application/vnd.jupyter.widget-view+json": {
              "model_id": "0420d14f521e4d0c8e028862d780b0fd",
              "version_major": 2,
              "version_minor": 0
            },
            "text/plain": [
              "  0%|          | 0/41 [00:00<?, ?it/s]"
            ]
          },
          "metadata": {},
          "output_type": "display_data"
        },
        {
          "name": "stdout",
          "output_type": "stream",
          "text": [
            "{'eval_loss': 0.8030319809913635, 'eval_f1': 0.6013234845036501, 'eval_runtime': 13.859, 'eval_samples_per_second': 141.135, 'eval_steps_per_second': 2.958, 'epoch': 7.0}\n"
          ]
        },
        {
          "name": "stderr",
          "output_type": "stream",
          "text": [
            "/home/ttsai/anaconda3/envs/nlp_final/lib/python3.8/site-packages/torch/nn/parallel/_functions.py:68: UserWarning: Was asked to gather along dimension 0, but all input tensors were scalars; will instead unsqueeze and return a vector.\n",
            "  warnings.warn('Was asked to gather along dimension 0, but all '\n"
          ]
        },
        {
          "data": {
            "application/vnd.jupyter.widget-view+json": {
              "model_id": "b3c657d0df034986826925bc4634b524",
              "version_major": 2,
              "version_minor": 0
            },
            "text/plain": [
              "  0%|          | 0/41 [00:00<?, ?it/s]"
            ]
          },
          "metadata": {},
          "output_type": "display_data"
        },
        {
          "name": "stdout",
          "output_type": "stream",
          "text": [
            "{'eval_loss': 0.9013725519180298, 'eval_f1': 0.5871367203520016, 'eval_runtime': 13.8563, 'eval_samples_per_second': 141.164, 'eval_steps_per_second': 2.959, 'epoch': 8.0}\n"
          ]
        },
        {
          "name": "stderr",
          "output_type": "stream",
          "text": [
            "/home/ttsai/anaconda3/envs/nlp_final/lib/python3.8/site-packages/torch/nn/parallel/_functions.py:68: UserWarning: Was asked to gather along dimension 0, but all input tensors were scalars; will instead unsqueeze and return a vector.\n",
            "  warnings.warn('Was asked to gather along dimension 0, but all '\n"
          ]
        },
        {
          "name": "stdout",
          "output_type": "stream",
          "text": [
            "{'loss': 0.283, 'learning_rate': 9.016393442622952e-06, 'epoch': 8.2}\n"
          ]
        },
        {
          "data": {
            "application/vnd.jupyter.widget-view+json": {
              "model_id": "2097e4e5678d416ba6f978130e1e927e",
              "version_major": 2,
              "version_minor": 0
            },
            "text/plain": [
              "  0%|          | 0/41 [00:00<?, ?it/s]"
            ]
          },
          "metadata": {},
          "output_type": "display_data"
        },
        {
          "name": "stdout",
          "output_type": "stream",
          "text": [
            "{'eval_loss': 0.9366181492805481, 'eval_f1': 0.590286082340727, 'eval_runtime': 13.8592, 'eval_samples_per_second': 141.134, 'eval_steps_per_second': 2.958, 'epoch': 9.0}\n"
          ]
        },
        {
          "name": "stderr",
          "output_type": "stream",
          "text": [
            "/home/ttsai/anaconda3/envs/nlp_final/lib/python3.8/site-packages/torch/nn/parallel/_functions.py:68: UserWarning: Was asked to gather along dimension 0, but all input tensors were scalars; will instead unsqueeze and return a vector.\n",
            "  warnings.warn('Was asked to gather along dimension 0, but all '\n"
          ]
        },
        {
          "data": {
            "application/vnd.jupyter.widget-view+json": {
              "model_id": "11ce7d8f91c5422288aebbd401c7a041",
              "version_major": 2,
              "version_minor": 0
            },
            "text/plain": [
              "  0%|          | 0/41 [00:00<?, ?it/s]"
            ]
          },
          "metadata": {},
          "output_type": "display_data"
        },
        {
          "name": "stdout",
          "output_type": "stream",
          "text": [
            "{'eval_loss': 0.9402152299880981, 'eval_f1': 0.5997320376259201, 'eval_runtime': 13.8728, 'eval_samples_per_second': 140.996, 'eval_steps_per_second': 2.955, 'epoch': 10.0}\n",
            "{'train_runtime': 680.4075, 'train_samples_per_second': 42.827, 'train_steps_per_second': 0.897, 'train_loss': 0.24369667084490668, 'epoch': 10.0}\n"
          ]
        }
      ],
      "source": [
        "model = StanceDetectionModel()\n",
        "model.train()"
      ]
    },
    {
      "attachments": {},
      "cell_type": "markdown",
      "metadata": {
        "id": "AvZbm7IBKjqw"
      },
      "source": [
        "# Assignment III: 目標1\n",
        "\n",
        "請修改 `Assignment III 修改區` 那格，使得下方回報之 F1 越高越好"
      ]
    },
    {
      "cell_type": "code",
      "execution_count": 35,
      "metadata": {
        "colab": {
          "base_uri": "https://localhost:8080/",
          "height": 55
        },
        "id": "CT37Skv6LKNj",
        "outputId": "4c1eda86-a564-4f1e-805d-a5c2235fc620"
      },
      "outputs": [
        {
          "name": "stderr",
          "output_type": "stream",
          "text": [
            "/home/ttsai/anaconda3/envs/nlp_final/lib/python3.8/site-packages/torch/nn/parallel/_functions.py:68: UserWarning: Was asked to gather along dimension 0, but all input tensors were scalars; will instead unsqueeze and return a vector.\n",
            "  warnings.warn('Was asked to gather along dimension 0, but all '\n"
          ]
        },
        {
          "data": {
            "application/vnd.jupyter.widget-view+json": {
              "model_id": "7e67cedbf2144fa7ae87439116dd9db5",
              "version_major": 2,
              "version_minor": 0
            },
            "text/plain": [
              "  0%|          | 0/41 [00:00<?, ?it/s]"
            ]
          },
          "metadata": {},
          "output_type": "display_data"
        },
        {
          "name": "stdout",
          "output_type": "stream",
          "text": [
            "0.612446064808484\n"
          ]
        }
      ],
      "source": [
        "print(model.evaluate()['eval_f1'])"
      ]
    },
    {
      "attachments": {},
      "cell_type": "markdown",
      "metadata": {
        "id": "0Fo92JcHKOVi"
      },
      "source": [
        "# Assignment III: 目標2\n",
        "請修改 `Assignment III 修改區` 那格，使得下方程式碼能順利執行"
      ]
    },
    {
      "cell_type": "code",
      "execution_count": 36,
      "metadata": {
        "colab": {
          "base_uri": "https://localhost:8080/",
          "height": 1000
        },
        "id": "9i5bUM62mu-k",
        "outputId": "d415dde8-0a90-4a02-bafe-452236ddb708"
      },
      "outputs": [
        {
          "data": {
            "text/plain": [
              "['AGAINST', 'AGAINST', 'AGAINST']"
            ]
          },
          "execution_count": 36,
          "metadata": {},
          "output_type": "execute_result"
        }
      ],
      "source": [
        "model.predict([\n",
        "    {\"text\": \"I don't trust Hillary\"}, \n",
        "    {\"text\": \"I don't like Trump\"},\n",
        "    {\"text\": \"I like Hillary Clinton. We are personal friends. My support for her candidacy is based on the fact that she is brilliantly qualified for the job.\"}\n",
        "    ])"
      ]
    },
    {
      "cell_type": "code",
      "execution_count": 37,
      "metadata": {},
      "outputs": [
        {
          "data": {
            "text/plain": [
              "['FAVOR']"
            ]
          },
          "execution_count": 37,
          "metadata": {},
          "output_type": "execute_result"
        }
      ],
      "source": [
        "model.predict([{\"text\":\"I'm man\"}])"
      ]
    }
  ],
  "metadata": {
    "accelerator": "GPU",
    "colab": {
      "gpuClass": "premium",
      "gpuType": "A100",
      "machine_shape": "hm",
      "provenance": []
    },
    "gpuClass": "premium",
    "kernelspec": {
      "display_name": "Python 3",
      "name": "python3"
    },
    "language_info": {
      "codemirror_mode": {
        "name": "ipython",
        "version": 3
      },
      "file_extension": ".py",
      "mimetype": "text/x-python",
      "name": "python",
      "nbconvert_exporter": "python",
      "pygments_lexer": "ipython3",
      "version": "3.8.16"
    },
    "widgets": {
      "application/vnd.jupyter.widget-state+json": {
        "0218a9b194424154b37e090ff96a8caf": {
          "model_module": "@jupyter-widgets/controls",
          "model_module_version": "1.5.0",
          "model_name": "DescriptionStyleModel",
          "state": {
            "_model_module": "@jupyter-widgets/controls",
            "_model_module_version": "1.5.0",
            "_model_name": "DescriptionStyleModel",
            "_view_count": null,
            "_view_module": "@jupyter-widgets/base",
            "_view_module_version": "1.2.0",
            "_view_name": "StyleView",
            "description_width": ""
          }
        },
        "0f92ebf57bdb45e8b775c0f1c8f3c3d7": {
          "model_module": "@jupyter-widgets/base",
          "model_module_version": "1.2.0",
          "model_name": "LayoutModel",
          "state": {
            "_model_module": "@jupyter-widgets/base",
            "_model_module_version": "1.2.0",
            "_model_name": "LayoutModel",
            "_view_count": null,
            "_view_module": "@jupyter-widgets/base",
            "_view_module_version": "1.2.0",
            "_view_name": "LayoutView",
            "align_content": null,
            "align_items": null,
            "align_self": null,
            "border": null,
            "bottom": null,
            "display": null,
            "flex": null,
            "flex_flow": null,
            "grid_area": null,
            "grid_auto_columns": null,
            "grid_auto_flow": null,
            "grid_auto_rows": null,
            "grid_column": null,
            "grid_gap": null,
            "grid_row": null,
            "grid_template_areas": null,
            "grid_template_columns": null,
            "grid_template_rows": null,
            "height": null,
            "justify_content": null,
            "justify_items": null,
            "left": null,
            "margin": null,
            "max_height": null,
            "max_width": null,
            "min_height": null,
            "min_width": null,
            "object_fit": null,
            "object_position": null,
            "order": null,
            "overflow": null,
            "overflow_x": null,
            "overflow_y": null,
            "padding": null,
            "right": null,
            "top": null,
            "visibility": "hidden",
            "width": null
          }
        },
        "0fb59670ca124494aa4b3b425c2873cc": {
          "model_module": "@jupyter-widgets/controls",
          "model_module_version": "1.5.0",
          "model_name": "DescriptionStyleModel",
          "state": {
            "_model_module": "@jupyter-widgets/controls",
            "_model_module_version": "1.5.0",
            "_model_name": "DescriptionStyleModel",
            "_view_count": null,
            "_view_module": "@jupyter-widgets/base",
            "_view_module_version": "1.2.0",
            "_view_name": "StyleView",
            "description_width": ""
          }
        },
        "10ecacd61a914224a36e94802bc0f8ad": {
          "model_module": "@jupyter-widgets/base",
          "model_module_version": "1.2.0",
          "model_name": "LayoutModel",
          "state": {
            "_model_module": "@jupyter-widgets/base",
            "_model_module_version": "1.2.0",
            "_model_name": "LayoutModel",
            "_view_count": null,
            "_view_module": "@jupyter-widgets/base",
            "_view_module_version": "1.2.0",
            "_view_name": "LayoutView",
            "align_content": null,
            "align_items": null,
            "align_self": null,
            "border": null,
            "bottom": null,
            "display": null,
            "flex": null,
            "flex_flow": null,
            "grid_area": null,
            "grid_auto_columns": null,
            "grid_auto_flow": null,
            "grid_auto_rows": null,
            "grid_column": null,
            "grid_gap": null,
            "grid_row": null,
            "grid_template_areas": null,
            "grid_template_columns": null,
            "grid_template_rows": null,
            "height": null,
            "justify_content": null,
            "justify_items": null,
            "left": null,
            "margin": null,
            "max_height": null,
            "max_width": null,
            "min_height": null,
            "min_width": null,
            "object_fit": null,
            "object_position": null,
            "order": null,
            "overflow": null,
            "overflow_x": null,
            "overflow_y": null,
            "padding": null,
            "right": null,
            "top": null,
            "visibility": null,
            "width": null
          }
        },
        "114f9a3afdf04eed8e2ff93fd61d024b": {
          "model_module": "@jupyter-widgets/controls",
          "model_module_version": "1.5.0",
          "model_name": "HTMLModel",
          "state": {
            "_dom_classes": [],
            "_model_module": "@jupyter-widgets/controls",
            "_model_module_version": "1.5.0",
            "_model_name": "HTMLModel",
            "_view_count": null,
            "_view_module": "@jupyter-widgets/controls",
            "_view_module_version": "1.5.0",
            "_view_name": "HTMLView",
            "description": "",
            "description_tooltip": null,
            "layout": "IPY_MODEL_e8821de1d87e407abcc2c667694471db",
            "placeholder": "​",
            "style": "IPY_MODEL_0fb59670ca124494aa4b3b425c2873cc",
            "value": "Map: 100%"
          }
        },
        "16c47dc4ff014660a4c92a91ab60f023": {
          "model_module": "@jupyter-widgets/base",
          "model_module_version": "1.2.0",
          "model_name": "LayoutModel",
          "state": {
            "_model_module": "@jupyter-widgets/base",
            "_model_module_version": "1.2.0",
            "_model_name": "LayoutModel",
            "_view_count": null,
            "_view_module": "@jupyter-widgets/base",
            "_view_module_version": "1.2.0",
            "_view_name": "LayoutView",
            "align_content": null,
            "align_items": null,
            "align_self": null,
            "border": null,
            "bottom": null,
            "display": null,
            "flex": null,
            "flex_flow": null,
            "grid_area": null,
            "grid_auto_columns": null,
            "grid_auto_flow": null,
            "grid_auto_rows": null,
            "grid_column": null,
            "grid_gap": null,
            "grid_row": null,
            "grid_template_areas": null,
            "grid_template_columns": null,
            "grid_template_rows": null,
            "height": null,
            "justify_content": null,
            "justify_items": null,
            "left": null,
            "margin": null,
            "max_height": null,
            "max_width": null,
            "min_height": null,
            "min_width": null,
            "object_fit": null,
            "object_position": null,
            "order": null,
            "overflow": null,
            "overflow_x": null,
            "overflow_y": null,
            "padding": null,
            "right": null,
            "top": null,
            "visibility": null,
            "width": null
          }
        },
        "18535cedb81440f6979d1c5852f67467": {
          "model_module": "@jupyter-widgets/controls",
          "model_module_version": "1.5.0",
          "model_name": "ProgressStyleModel",
          "state": {
            "_model_module": "@jupyter-widgets/controls",
            "_model_module_version": "1.5.0",
            "_model_name": "ProgressStyleModel",
            "_view_count": null,
            "_view_module": "@jupyter-widgets/base",
            "_view_module_version": "1.2.0",
            "_view_name": "StyleView",
            "bar_color": null,
            "description_width": ""
          }
        },
        "18c807fe5d3b4cf082d34ca9d5ef5758": {
          "model_module": "@jupyter-widgets/controls",
          "model_module_version": "1.5.0",
          "model_name": "ProgressStyleModel",
          "state": {
            "_model_module": "@jupyter-widgets/controls",
            "_model_module_version": "1.5.0",
            "_model_name": "ProgressStyleModel",
            "_view_count": null,
            "_view_module": "@jupyter-widgets/base",
            "_view_module_version": "1.2.0",
            "_view_name": "StyleView",
            "bar_color": null,
            "description_width": ""
          }
        },
        "19f7e7c77a5344d18a2152d9c319a9b7": {
          "model_module": "@jupyter-widgets/base",
          "model_module_version": "1.2.0",
          "model_name": "LayoutModel",
          "state": {
            "_model_module": "@jupyter-widgets/base",
            "_model_module_version": "1.2.0",
            "_model_name": "LayoutModel",
            "_view_count": null,
            "_view_module": "@jupyter-widgets/base",
            "_view_module_version": "1.2.0",
            "_view_name": "LayoutView",
            "align_content": null,
            "align_items": null,
            "align_self": null,
            "border": null,
            "bottom": null,
            "display": null,
            "flex": null,
            "flex_flow": null,
            "grid_area": null,
            "grid_auto_columns": null,
            "grid_auto_flow": null,
            "grid_auto_rows": null,
            "grid_column": null,
            "grid_gap": null,
            "grid_row": null,
            "grid_template_areas": null,
            "grid_template_columns": null,
            "grid_template_rows": null,
            "height": null,
            "justify_content": null,
            "justify_items": null,
            "left": null,
            "margin": null,
            "max_height": null,
            "max_width": null,
            "min_height": null,
            "min_width": null,
            "object_fit": null,
            "object_position": null,
            "order": null,
            "overflow": null,
            "overflow_x": null,
            "overflow_y": null,
            "padding": null,
            "right": null,
            "top": null,
            "visibility": null,
            "width": null
          }
        },
        "1b83741a7fe8433691106234136d7481": {
          "model_module": "@jupyter-widgets/controls",
          "model_module_version": "1.5.0",
          "model_name": "HTMLModel",
          "state": {
            "_dom_classes": [],
            "_model_module": "@jupyter-widgets/controls",
            "_model_module_version": "1.5.0",
            "_model_name": "HTMLModel",
            "_view_count": null,
            "_view_module": "@jupyter-widgets/controls",
            "_view_module_version": "1.5.0",
            "_view_name": "HTMLView",
            "description": "",
            "description_tooltip": null,
            "layout": "IPY_MODEL_16c47dc4ff014660a4c92a91ab60f023",
            "placeholder": "​",
            "style": "IPY_MODEL_a144dcd042c04e4cbc1320e85c663fde",
            "value": " 0/0 [00:00&lt;?, ? examples/s]"
          }
        },
        "2605341d2beb4d5689f404c33ae5d186": {
          "model_module": "@jupyter-widgets/controls",
          "model_module_version": "1.5.0",
          "model_name": "FloatProgressModel",
          "state": {
            "_dom_classes": [],
            "_model_module": "@jupyter-widgets/controls",
            "_model_module_version": "1.5.0",
            "_model_name": "FloatProgressModel",
            "_view_count": null,
            "_view_module": "@jupyter-widgets/controls",
            "_view_module_version": "1.5.0",
            "_view_name": "ProgressView",
            "bar_style": "",
            "description": "",
            "description_tooltip": null,
            "layout": "IPY_MODEL_6f6380b1a7024a08998f815ff5b9c02a",
            "max": 2914,
            "min": 0,
            "orientation": "horizontal",
            "style": "IPY_MODEL_8af08cf26e564a3685a5069c233f69e1",
            "value": 2914
          }
        },
        "292db551725c4dcda87896849459b6b2": {
          "model_module": "@jupyter-widgets/base",
          "model_module_version": "1.2.0",
          "model_name": "LayoutModel",
          "state": {
            "_model_module": "@jupyter-widgets/base",
            "_model_module_version": "1.2.0",
            "_model_name": "LayoutModel",
            "_view_count": null,
            "_view_module": "@jupyter-widgets/base",
            "_view_module_version": "1.2.0",
            "_view_name": "LayoutView",
            "align_content": null,
            "align_items": null,
            "align_self": null,
            "border": null,
            "bottom": null,
            "display": null,
            "flex": null,
            "flex_flow": null,
            "grid_area": null,
            "grid_auto_columns": null,
            "grid_auto_flow": null,
            "grid_auto_rows": null,
            "grid_column": null,
            "grid_gap": null,
            "grid_row": null,
            "grid_template_areas": null,
            "grid_template_columns": null,
            "grid_template_rows": null,
            "height": null,
            "justify_content": null,
            "justify_items": null,
            "left": null,
            "margin": null,
            "max_height": null,
            "max_width": null,
            "min_height": null,
            "min_width": null,
            "object_fit": null,
            "object_position": null,
            "order": null,
            "overflow": null,
            "overflow_x": null,
            "overflow_y": null,
            "padding": null,
            "right": null,
            "top": null,
            "visibility": null,
            "width": null
          }
        },
        "2f9f324946e34decb3fe67bce420ec39": {
          "model_module": "@jupyter-widgets/controls",
          "model_module_version": "1.5.0",
          "model_name": "DescriptionStyleModel",
          "state": {
            "_model_module": "@jupyter-widgets/controls",
            "_model_module_version": "1.5.0",
            "_model_name": "DescriptionStyleModel",
            "_view_count": null,
            "_view_module": "@jupyter-widgets/base",
            "_view_module_version": "1.2.0",
            "_view_name": "StyleView",
            "description_width": ""
          }
        },
        "31bd23734443449cad826d3c09b800a0": {
          "model_module": "@jupyter-widgets/controls",
          "model_module_version": "1.5.0",
          "model_name": "HTMLModel",
          "state": {
            "_dom_classes": [],
            "_model_module": "@jupyter-widgets/controls",
            "_model_module_version": "1.5.0",
            "_model_name": "HTMLModel",
            "_view_count": null,
            "_view_module": "@jupyter-widgets/controls",
            "_view_module_version": "1.5.0",
            "_view_name": "HTMLView",
            "description": "",
            "description_tooltip": null,
            "layout": "IPY_MODEL_474d166dd47e45aa9956a54aad3c1562",
            "placeholder": "​",
            "style": "IPY_MODEL_2f9f324946e34decb3fe67bce420ec39",
            "value": "Generating train split: "
          }
        },
        "3420ec059db447e5a947eaff55e12bf0": {
          "model_module": "@jupyter-widgets/base",
          "model_module_version": "1.2.0",
          "model_name": "LayoutModel",
          "state": {
            "_model_module": "@jupyter-widgets/base",
            "_model_module_version": "1.2.0",
            "_model_name": "LayoutModel",
            "_view_count": null,
            "_view_module": "@jupyter-widgets/base",
            "_view_module_version": "1.2.0",
            "_view_name": "LayoutView",
            "align_content": null,
            "align_items": null,
            "align_self": null,
            "border": null,
            "bottom": null,
            "display": null,
            "flex": null,
            "flex_flow": null,
            "grid_area": null,
            "grid_auto_columns": null,
            "grid_auto_flow": null,
            "grid_auto_rows": null,
            "grid_column": null,
            "grid_gap": null,
            "grid_row": null,
            "grid_template_areas": null,
            "grid_template_columns": null,
            "grid_template_rows": null,
            "height": null,
            "justify_content": null,
            "justify_items": null,
            "left": null,
            "margin": null,
            "max_height": null,
            "max_width": null,
            "min_height": null,
            "min_width": null,
            "object_fit": null,
            "object_position": null,
            "order": null,
            "overflow": null,
            "overflow_x": null,
            "overflow_y": null,
            "padding": null,
            "right": null,
            "top": null,
            "visibility": null,
            "width": null
          }
        },
        "474d166dd47e45aa9956a54aad3c1562": {
          "model_module": "@jupyter-widgets/base",
          "model_module_version": "1.2.0",
          "model_name": "LayoutModel",
          "state": {
            "_model_module": "@jupyter-widgets/base",
            "_model_module_version": "1.2.0",
            "_model_name": "LayoutModel",
            "_view_count": null,
            "_view_module": "@jupyter-widgets/base",
            "_view_module_version": "1.2.0",
            "_view_name": "LayoutView",
            "align_content": null,
            "align_items": null,
            "align_self": null,
            "border": null,
            "bottom": null,
            "display": null,
            "flex": null,
            "flex_flow": null,
            "grid_area": null,
            "grid_auto_columns": null,
            "grid_auto_flow": null,
            "grid_auto_rows": null,
            "grid_column": null,
            "grid_gap": null,
            "grid_row": null,
            "grid_template_areas": null,
            "grid_template_columns": null,
            "grid_template_rows": null,
            "height": null,
            "justify_content": null,
            "justify_items": null,
            "left": null,
            "margin": null,
            "max_height": null,
            "max_width": null,
            "min_height": null,
            "min_width": null,
            "object_fit": null,
            "object_position": null,
            "order": null,
            "overflow": null,
            "overflow_x": null,
            "overflow_y": null,
            "padding": null,
            "right": null,
            "top": null,
            "visibility": null,
            "width": null
          }
        },
        "4e8313bd77d741daa69dff7acb1423b3": {
          "model_module": "@jupyter-widgets/controls",
          "model_module_version": "1.5.0",
          "model_name": "FloatProgressModel",
          "state": {
            "_dom_classes": [],
            "_model_module": "@jupyter-widgets/controls",
            "_model_module_version": "1.5.0",
            "_model_name": "FloatProgressModel",
            "_view_count": null,
            "_view_module": "@jupyter-widgets/controls",
            "_view_module_version": "1.5.0",
            "_view_name": "ProgressView",
            "bar_style": "",
            "description": "",
            "description_tooltip": null,
            "layout": "IPY_MODEL_d7e98571c98c4fbb925b530778c72ccc",
            "max": 1956,
            "min": 0,
            "orientation": "horizontal",
            "style": "IPY_MODEL_18535cedb81440f6979d1c5852f67467",
            "value": 1956
          }
        },
        "53f95747acda41fe8b4f71e1e59703d3": {
          "model_module": "@jupyter-widgets/base",
          "model_module_version": "1.2.0",
          "model_name": "LayoutModel",
          "state": {
            "_model_module": "@jupyter-widgets/base",
            "_model_module_version": "1.2.0",
            "_model_name": "LayoutModel",
            "_view_count": null,
            "_view_module": "@jupyter-widgets/base",
            "_view_module_version": "1.2.0",
            "_view_name": "LayoutView",
            "align_content": null,
            "align_items": null,
            "align_self": null,
            "border": null,
            "bottom": null,
            "display": null,
            "flex": null,
            "flex_flow": null,
            "grid_area": null,
            "grid_auto_columns": null,
            "grid_auto_flow": null,
            "grid_auto_rows": null,
            "grid_column": null,
            "grid_gap": null,
            "grid_row": null,
            "grid_template_areas": null,
            "grid_template_columns": null,
            "grid_template_rows": null,
            "height": null,
            "justify_content": null,
            "justify_items": null,
            "left": null,
            "margin": null,
            "max_height": null,
            "max_width": null,
            "min_height": null,
            "min_width": null,
            "object_fit": null,
            "object_position": null,
            "order": null,
            "overflow": null,
            "overflow_x": null,
            "overflow_y": null,
            "padding": null,
            "right": null,
            "top": null,
            "visibility": null,
            "width": null
          }
        },
        "55fc5020afda4e3a9684bbe3101e673b": {
          "model_module": "@jupyter-widgets/controls",
          "model_module_version": "1.5.0",
          "model_name": "DescriptionStyleModel",
          "state": {
            "_model_module": "@jupyter-widgets/controls",
            "_model_module_version": "1.5.0",
            "_model_name": "DescriptionStyleModel",
            "_view_count": null,
            "_view_module": "@jupyter-widgets/base",
            "_view_module_version": "1.2.0",
            "_view_name": "StyleView",
            "description_width": ""
          }
        },
        "5f0cd32affdf4f3897fc20771e73fb29": {
          "model_module": "@jupyter-widgets/controls",
          "model_module_version": "1.5.0",
          "model_name": "HTMLModel",
          "state": {
            "_dom_classes": [],
            "_model_module": "@jupyter-widgets/controls",
            "_model_module_version": "1.5.0",
            "_model_name": "HTMLModel",
            "_view_count": null,
            "_view_module": "@jupyter-widgets/controls",
            "_view_module_version": "1.5.0",
            "_view_name": "HTMLView",
            "description": "",
            "description_tooltip": null,
            "layout": "IPY_MODEL_53f95747acda41fe8b4f71e1e59703d3",
            "placeholder": "​",
            "style": "IPY_MODEL_55fc5020afda4e3a9684bbe3101e673b",
            "value": " 0/0 [00:00&lt;?, ? examples/s]"
          }
        },
        "67d1b97b1825420dbc9829571b7f6b61": {
          "model_module": "@jupyter-widgets/base",
          "model_module_version": "1.2.0",
          "model_name": "LayoutModel",
          "state": {
            "_model_module": "@jupyter-widgets/base",
            "_model_module_version": "1.2.0",
            "_model_name": "LayoutModel",
            "_view_count": null,
            "_view_module": "@jupyter-widgets/base",
            "_view_module_version": "1.2.0",
            "_view_name": "LayoutView",
            "align_content": null,
            "align_items": null,
            "align_self": null,
            "border": null,
            "bottom": null,
            "display": null,
            "flex": null,
            "flex_flow": null,
            "grid_area": null,
            "grid_auto_columns": null,
            "grid_auto_flow": null,
            "grid_auto_rows": null,
            "grid_column": null,
            "grid_gap": null,
            "grid_row": null,
            "grid_template_areas": null,
            "grid_template_columns": null,
            "grid_template_rows": null,
            "height": null,
            "justify_content": null,
            "justify_items": null,
            "left": null,
            "margin": null,
            "max_height": null,
            "max_width": null,
            "min_height": null,
            "min_width": null,
            "object_fit": null,
            "object_position": null,
            "order": null,
            "overflow": null,
            "overflow_x": null,
            "overflow_y": null,
            "padding": null,
            "right": null,
            "top": null,
            "visibility": null,
            "width": "20px"
          }
        },
        "692068419a594b48b1b52331a5910020": {
          "model_module": "@jupyter-widgets/controls",
          "model_module_version": "1.5.0",
          "model_name": "HBoxModel",
          "state": {
            "_dom_classes": [],
            "_model_module": "@jupyter-widgets/controls",
            "_model_module_version": "1.5.0",
            "_model_name": "HBoxModel",
            "_view_count": null,
            "_view_module": "@jupyter-widgets/controls",
            "_view_module_version": "1.5.0",
            "_view_name": "HBoxView",
            "box_style": "",
            "children": [
              "IPY_MODEL_bea68335f15a4017871d2252f81d7ee8",
              "IPY_MODEL_f300ec53906545ea918cab931ca0d8be",
              "IPY_MODEL_5f0cd32affdf4f3897fc20771e73fb29"
            ],
            "layout": "IPY_MODEL_d45b1b8f0da9475f9cb0d7954ffe4b05"
          }
        },
        "6f4fc72162f0448f82abbeff69012339": {
          "model_module": "@jupyter-widgets/controls",
          "model_module_version": "1.5.0",
          "model_name": "HBoxModel",
          "state": {
            "_dom_classes": [],
            "_model_module": "@jupyter-widgets/controls",
            "_model_module_version": "1.5.0",
            "_model_name": "HBoxModel",
            "_view_count": null,
            "_view_module": "@jupyter-widgets/controls",
            "_view_module_version": "1.5.0",
            "_view_name": "HBoxView",
            "box_style": "",
            "children": [
              "IPY_MODEL_31bd23734443449cad826d3c09b800a0",
              "IPY_MODEL_f33790eb9b284ac0890f7c6685a79ecb",
              "IPY_MODEL_1b83741a7fe8433691106234136d7481"
            ],
            "layout": "IPY_MODEL_800b3d9d7ee44c0580b2c41a71a33cef"
          }
        },
        "6f6380b1a7024a08998f815ff5b9c02a": {
          "model_module": "@jupyter-widgets/base",
          "model_module_version": "1.2.0",
          "model_name": "LayoutModel",
          "state": {
            "_model_module": "@jupyter-widgets/base",
            "_model_module_version": "1.2.0",
            "_model_name": "LayoutModel",
            "_view_count": null,
            "_view_module": "@jupyter-widgets/base",
            "_view_module_version": "1.2.0",
            "_view_name": "LayoutView",
            "align_content": null,
            "align_items": null,
            "align_self": null,
            "border": null,
            "bottom": null,
            "display": null,
            "flex": null,
            "flex_flow": null,
            "grid_area": null,
            "grid_auto_columns": null,
            "grid_auto_flow": null,
            "grid_auto_rows": null,
            "grid_column": null,
            "grid_gap": null,
            "grid_row": null,
            "grid_template_areas": null,
            "grid_template_columns": null,
            "grid_template_rows": null,
            "height": null,
            "justify_content": null,
            "justify_items": null,
            "left": null,
            "margin": null,
            "max_height": null,
            "max_width": null,
            "min_height": null,
            "min_width": null,
            "object_fit": null,
            "object_position": null,
            "order": null,
            "overflow": null,
            "overflow_x": null,
            "overflow_y": null,
            "padding": null,
            "right": null,
            "top": null,
            "visibility": null,
            "width": null
          }
        },
        "7201991a0d1f4d9491ec65bb29c10227": {
          "model_module": "@jupyter-widgets/controls",
          "model_module_version": "1.5.0",
          "model_name": "HTMLModel",
          "state": {
            "_dom_classes": [],
            "_model_module": "@jupyter-widgets/controls",
            "_model_module_version": "1.5.0",
            "_model_name": "HTMLModel",
            "_view_count": null,
            "_view_module": "@jupyter-widgets/controls",
            "_view_module_version": "1.5.0",
            "_view_name": "HTMLView",
            "description": "",
            "description_tooltip": null,
            "layout": "IPY_MODEL_292db551725c4dcda87896849459b6b2",
            "placeholder": "​",
            "style": "IPY_MODEL_b0ff9725eb204e8eabe6825fd295f4ed",
            "value": "Map: 100%"
          }
        },
        "7f2e32fa41804c9086af478bb13056c7": {
          "model_module": "@jupyter-widgets/controls",
          "model_module_version": "1.5.0",
          "model_name": "HBoxModel",
          "state": {
            "_dom_classes": [],
            "_model_module": "@jupyter-widgets/controls",
            "_model_module_version": "1.5.0",
            "_model_name": "HBoxModel",
            "_view_count": null,
            "_view_module": "@jupyter-widgets/controls",
            "_view_module_version": "1.5.0",
            "_view_name": "HBoxView",
            "box_style": "",
            "children": [
              "IPY_MODEL_114f9a3afdf04eed8e2ff93fd61d024b",
              "IPY_MODEL_2605341d2beb4d5689f404c33ae5d186",
              "IPY_MODEL_9d6630609d324d589a50c6bdab88e22c"
            ],
            "layout": "IPY_MODEL_92b736d3e59c4743b4090bedf440d14f"
          }
        },
        "800b3d9d7ee44c0580b2c41a71a33cef": {
          "model_module": "@jupyter-widgets/base",
          "model_module_version": "1.2.0",
          "model_name": "LayoutModel",
          "state": {
            "_model_module": "@jupyter-widgets/base",
            "_model_module_version": "1.2.0",
            "_model_name": "LayoutModel",
            "_view_count": null,
            "_view_module": "@jupyter-widgets/base",
            "_view_module_version": "1.2.0",
            "_view_name": "LayoutView",
            "align_content": null,
            "align_items": null,
            "align_self": null,
            "border": null,
            "bottom": null,
            "display": null,
            "flex": null,
            "flex_flow": null,
            "grid_area": null,
            "grid_auto_columns": null,
            "grid_auto_flow": null,
            "grid_auto_rows": null,
            "grid_column": null,
            "grid_gap": null,
            "grid_row": null,
            "grid_template_areas": null,
            "grid_template_columns": null,
            "grid_template_rows": null,
            "height": null,
            "justify_content": null,
            "justify_items": null,
            "left": null,
            "margin": null,
            "max_height": null,
            "max_width": null,
            "min_height": null,
            "min_width": null,
            "object_fit": null,
            "object_position": null,
            "order": null,
            "overflow": null,
            "overflow_x": null,
            "overflow_y": null,
            "padding": null,
            "right": null,
            "top": null,
            "visibility": "hidden",
            "width": null
          }
        },
        "8af08cf26e564a3685a5069c233f69e1": {
          "model_module": "@jupyter-widgets/controls",
          "model_module_version": "1.5.0",
          "model_name": "ProgressStyleModel",
          "state": {
            "_model_module": "@jupyter-widgets/controls",
            "_model_module_version": "1.5.0",
            "_model_name": "ProgressStyleModel",
            "_view_count": null,
            "_view_module": "@jupyter-widgets/base",
            "_view_module_version": "1.2.0",
            "_view_name": "StyleView",
            "bar_color": null,
            "description_width": ""
          }
        },
        "92b736d3e59c4743b4090bedf440d14f": {
          "model_module": "@jupyter-widgets/base",
          "model_module_version": "1.2.0",
          "model_name": "LayoutModel",
          "state": {
            "_model_module": "@jupyter-widgets/base",
            "_model_module_version": "1.2.0",
            "_model_name": "LayoutModel",
            "_view_count": null,
            "_view_module": "@jupyter-widgets/base",
            "_view_module_version": "1.2.0",
            "_view_name": "LayoutView",
            "align_content": null,
            "align_items": null,
            "align_self": null,
            "border": null,
            "bottom": null,
            "display": null,
            "flex": null,
            "flex_flow": null,
            "grid_area": null,
            "grid_auto_columns": null,
            "grid_auto_flow": null,
            "grid_auto_rows": null,
            "grid_column": null,
            "grid_gap": null,
            "grid_row": null,
            "grid_template_areas": null,
            "grid_template_columns": null,
            "grid_template_rows": null,
            "height": null,
            "justify_content": null,
            "justify_items": null,
            "left": null,
            "margin": null,
            "max_height": null,
            "max_width": null,
            "min_height": null,
            "min_width": null,
            "object_fit": null,
            "object_position": null,
            "order": null,
            "overflow": null,
            "overflow_x": null,
            "overflow_y": null,
            "padding": null,
            "right": null,
            "top": null,
            "visibility": "hidden",
            "width": null
          }
        },
        "9d6630609d324d589a50c6bdab88e22c": {
          "model_module": "@jupyter-widgets/controls",
          "model_module_version": "1.5.0",
          "model_name": "HTMLModel",
          "state": {
            "_dom_classes": [],
            "_model_module": "@jupyter-widgets/controls",
            "_model_module_version": "1.5.0",
            "_model_name": "HTMLModel",
            "_view_count": null,
            "_view_module": "@jupyter-widgets/controls",
            "_view_module_version": "1.5.0",
            "_view_name": "HTMLView",
            "description": "",
            "description_tooltip": null,
            "layout": "IPY_MODEL_19f7e7c77a5344d18a2152d9c319a9b7",
            "placeholder": "​",
            "style": "IPY_MODEL_f42f440c790342969223a33d79952523",
            "value": " 2914/2914 [00:00&lt;00:00, 3419.83 examples/s]"
          }
        },
        "a144dcd042c04e4cbc1320e85c663fde": {
          "model_module": "@jupyter-widgets/controls",
          "model_module_version": "1.5.0",
          "model_name": "DescriptionStyleModel",
          "state": {
            "_model_module": "@jupyter-widgets/controls",
            "_model_module_version": "1.5.0",
            "_model_name": "DescriptionStyleModel",
            "_view_count": null,
            "_view_module": "@jupyter-widgets/base",
            "_view_module_version": "1.2.0",
            "_view_name": "StyleView",
            "description_width": ""
          }
        },
        "b0ff9725eb204e8eabe6825fd295f4ed": {
          "model_module": "@jupyter-widgets/controls",
          "model_module_version": "1.5.0",
          "model_name": "DescriptionStyleModel",
          "state": {
            "_model_module": "@jupyter-widgets/controls",
            "_model_module_version": "1.5.0",
            "_model_name": "DescriptionStyleModel",
            "_view_count": null,
            "_view_module": "@jupyter-widgets/base",
            "_view_module_version": "1.2.0",
            "_view_name": "StyleView",
            "description_width": ""
          }
        },
        "b1302247ab074d89b2afe056ffeff4e1": {
          "model_module": "@jupyter-widgets/controls",
          "model_module_version": "1.5.0",
          "model_name": "HTMLModel",
          "state": {
            "_dom_classes": [],
            "_model_module": "@jupyter-widgets/controls",
            "_model_module_version": "1.5.0",
            "_model_name": "HTMLModel",
            "_view_count": null,
            "_view_module": "@jupyter-widgets/controls",
            "_view_module_version": "1.5.0",
            "_view_name": "HTMLView",
            "description": "",
            "description_tooltip": null,
            "layout": "IPY_MODEL_3420ec059db447e5a947eaff55e12bf0",
            "placeholder": "​",
            "style": "IPY_MODEL_0218a9b194424154b37e090ff96a8caf",
            "value": " 1956/1956 [00:00&lt;00:00, 3484.29 examples/s]"
          }
        },
        "b67017da7ead4e30bd0d0d23b77855bd": {
          "model_module": "@jupyter-widgets/controls",
          "model_module_version": "1.5.0",
          "model_name": "HBoxModel",
          "state": {
            "_dom_classes": [],
            "_model_module": "@jupyter-widgets/controls",
            "_model_module_version": "1.5.0",
            "_model_name": "HBoxModel",
            "_view_count": null,
            "_view_module": "@jupyter-widgets/controls",
            "_view_module_version": "1.5.0",
            "_view_name": "HBoxView",
            "box_style": "",
            "children": [
              "IPY_MODEL_7201991a0d1f4d9491ec65bb29c10227",
              "IPY_MODEL_4e8313bd77d741daa69dff7acb1423b3",
              "IPY_MODEL_b1302247ab074d89b2afe056ffeff4e1"
            ],
            "layout": "IPY_MODEL_0f92ebf57bdb45e8b775c0f1c8f3c3d7"
          }
        },
        "bea68335f15a4017871d2252f81d7ee8": {
          "model_module": "@jupyter-widgets/controls",
          "model_module_version": "1.5.0",
          "model_name": "HTMLModel",
          "state": {
            "_dom_classes": [],
            "_model_module": "@jupyter-widgets/controls",
            "_model_module_version": "1.5.0",
            "_model_name": "HTMLModel",
            "_view_count": null,
            "_view_module": "@jupyter-widgets/controls",
            "_view_module_version": "1.5.0",
            "_view_name": "HTMLView",
            "description": "",
            "description_tooltip": null,
            "layout": "IPY_MODEL_10ecacd61a914224a36e94802bc0f8ad",
            "placeholder": "​",
            "style": "IPY_MODEL_eaa5153945764d14bc9e361325c62c1b",
            "value": "Generating train split: "
          }
        },
        "d45b1b8f0da9475f9cb0d7954ffe4b05": {
          "model_module": "@jupyter-widgets/base",
          "model_module_version": "1.2.0",
          "model_name": "LayoutModel",
          "state": {
            "_model_module": "@jupyter-widgets/base",
            "_model_module_version": "1.2.0",
            "_model_name": "LayoutModel",
            "_view_count": null,
            "_view_module": "@jupyter-widgets/base",
            "_view_module_version": "1.2.0",
            "_view_name": "LayoutView",
            "align_content": null,
            "align_items": null,
            "align_self": null,
            "border": null,
            "bottom": null,
            "display": null,
            "flex": null,
            "flex_flow": null,
            "grid_area": null,
            "grid_auto_columns": null,
            "grid_auto_flow": null,
            "grid_auto_rows": null,
            "grid_column": null,
            "grid_gap": null,
            "grid_row": null,
            "grid_template_areas": null,
            "grid_template_columns": null,
            "grid_template_rows": null,
            "height": null,
            "justify_content": null,
            "justify_items": null,
            "left": null,
            "margin": null,
            "max_height": null,
            "max_width": null,
            "min_height": null,
            "min_width": null,
            "object_fit": null,
            "object_position": null,
            "order": null,
            "overflow": null,
            "overflow_x": null,
            "overflow_y": null,
            "padding": null,
            "right": null,
            "top": null,
            "visibility": "hidden",
            "width": null
          }
        },
        "d6073315d717412db888cce35c0f32a0": {
          "model_module": "@jupyter-widgets/base",
          "model_module_version": "1.2.0",
          "model_name": "LayoutModel",
          "state": {
            "_model_module": "@jupyter-widgets/base",
            "_model_module_version": "1.2.0",
            "_model_name": "LayoutModel",
            "_view_count": null,
            "_view_module": "@jupyter-widgets/base",
            "_view_module_version": "1.2.0",
            "_view_name": "LayoutView",
            "align_content": null,
            "align_items": null,
            "align_self": null,
            "border": null,
            "bottom": null,
            "display": null,
            "flex": null,
            "flex_flow": null,
            "grid_area": null,
            "grid_auto_columns": null,
            "grid_auto_flow": null,
            "grid_auto_rows": null,
            "grid_column": null,
            "grid_gap": null,
            "grid_row": null,
            "grid_template_areas": null,
            "grid_template_columns": null,
            "grid_template_rows": null,
            "height": null,
            "justify_content": null,
            "justify_items": null,
            "left": null,
            "margin": null,
            "max_height": null,
            "max_width": null,
            "min_height": null,
            "min_width": null,
            "object_fit": null,
            "object_position": null,
            "order": null,
            "overflow": null,
            "overflow_x": null,
            "overflow_y": null,
            "padding": null,
            "right": null,
            "top": null,
            "visibility": null,
            "width": "20px"
          }
        },
        "d7e98571c98c4fbb925b530778c72ccc": {
          "model_module": "@jupyter-widgets/base",
          "model_module_version": "1.2.0",
          "model_name": "LayoutModel",
          "state": {
            "_model_module": "@jupyter-widgets/base",
            "_model_module_version": "1.2.0",
            "_model_name": "LayoutModel",
            "_view_count": null,
            "_view_module": "@jupyter-widgets/base",
            "_view_module_version": "1.2.0",
            "_view_name": "LayoutView",
            "align_content": null,
            "align_items": null,
            "align_self": null,
            "border": null,
            "bottom": null,
            "display": null,
            "flex": null,
            "flex_flow": null,
            "grid_area": null,
            "grid_auto_columns": null,
            "grid_auto_flow": null,
            "grid_auto_rows": null,
            "grid_column": null,
            "grid_gap": null,
            "grid_row": null,
            "grid_template_areas": null,
            "grid_template_columns": null,
            "grid_template_rows": null,
            "height": null,
            "justify_content": null,
            "justify_items": null,
            "left": null,
            "margin": null,
            "max_height": null,
            "max_width": null,
            "min_height": null,
            "min_width": null,
            "object_fit": null,
            "object_position": null,
            "order": null,
            "overflow": null,
            "overflow_x": null,
            "overflow_y": null,
            "padding": null,
            "right": null,
            "top": null,
            "visibility": null,
            "width": null
          }
        },
        "e8821de1d87e407abcc2c667694471db": {
          "model_module": "@jupyter-widgets/base",
          "model_module_version": "1.2.0",
          "model_name": "LayoutModel",
          "state": {
            "_model_module": "@jupyter-widgets/base",
            "_model_module_version": "1.2.0",
            "_model_name": "LayoutModel",
            "_view_count": null,
            "_view_module": "@jupyter-widgets/base",
            "_view_module_version": "1.2.0",
            "_view_name": "LayoutView",
            "align_content": null,
            "align_items": null,
            "align_self": null,
            "border": null,
            "bottom": null,
            "display": null,
            "flex": null,
            "flex_flow": null,
            "grid_area": null,
            "grid_auto_columns": null,
            "grid_auto_flow": null,
            "grid_auto_rows": null,
            "grid_column": null,
            "grid_gap": null,
            "grid_row": null,
            "grid_template_areas": null,
            "grid_template_columns": null,
            "grid_template_rows": null,
            "height": null,
            "justify_content": null,
            "justify_items": null,
            "left": null,
            "margin": null,
            "max_height": null,
            "max_width": null,
            "min_height": null,
            "min_width": null,
            "object_fit": null,
            "object_position": null,
            "order": null,
            "overflow": null,
            "overflow_x": null,
            "overflow_y": null,
            "padding": null,
            "right": null,
            "top": null,
            "visibility": null,
            "width": null
          }
        },
        "eaa5153945764d14bc9e361325c62c1b": {
          "model_module": "@jupyter-widgets/controls",
          "model_module_version": "1.5.0",
          "model_name": "DescriptionStyleModel",
          "state": {
            "_model_module": "@jupyter-widgets/controls",
            "_model_module_version": "1.5.0",
            "_model_name": "DescriptionStyleModel",
            "_view_count": null,
            "_view_module": "@jupyter-widgets/base",
            "_view_module_version": "1.2.0",
            "_view_name": "StyleView",
            "description_width": ""
          }
        },
        "f300ec53906545ea918cab931ca0d8be": {
          "model_module": "@jupyter-widgets/controls",
          "model_module_version": "1.5.0",
          "model_name": "FloatProgressModel",
          "state": {
            "_dom_classes": [],
            "_model_module": "@jupyter-widgets/controls",
            "_model_module_version": "1.5.0",
            "_model_name": "FloatProgressModel",
            "_view_count": null,
            "_view_module": "@jupyter-widgets/controls",
            "_view_module_version": "1.5.0",
            "_view_name": "ProgressView",
            "bar_style": "info",
            "description": "",
            "description_tooltip": null,
            "layout": "IPY_MODEL_67d1b97b1825420dbc9829571b7f6b61",
            "max": 1,
            "min": 0,
            "orientation": "horizontal",
            "style": "IPY_MODEL_fb4d88668d084a668a9666f41fe2980c",
            "value": 1
          }
        },
        "f33790eb9b284ac0890f7c6685a79ecb": {
          "model_module": "@jupyter-widgets/controls",
          "model_module_version": "1.5.0",
          "model_name": "FloatProgressModel",
          "state": {
            "_dom_classes": [],
            "_model_module": "@jupyter-widgets/controls",
            "_model_module_version": "1.5.0",
            "_model_name": "FloatProgressModel",
            "_view_count": null,
            "_view_module": "@jupyter-widgets/controls",
            "_view_module_version": "1.5.0",
            "_view_name": "ProgressView",
            "bar_style": "info",
            "description": "",
            "description_tooltip": null,
            "layout": "IPY_MODEL_d6073315d717412db888cce35c0f32a0",
            "max": 1,
            "min": 0,
            "orientation": "horizontal",
            "style": "IPY_MODEL_18c807fe5d3b4cf082d34ca9d5ef5758",
            "value": 1
          }
        },
        "f42f440c790342969223a33d79952523": {
          "model_module": "@jupyter-widgets/controls",
          "model_module_version": "1.5.0",
          "model_name": "DescriptionStyleModel",
          "state": {
            "_model_module": "@jupyter-widgets/controls",
            "_model_module_version": "1.5.0",
            "_model_name": "DescriptionStyleModel",
            "_view_count": null,
            "_view_module": "@jupyter-widgets/base",
            "_view_module_version": "1.2.0",
            "_view_name": "StyleView",
            "description_width": ""
          }
        },
        "fb4d88668d084a668a9666f41fe2980c": {
          "model_module": "@jupyter-widgets/controls",
          "model_module_version": "1.5.0",
          "model_name": "ProgressStyleModel",
          "state": {
            "_model_module": "@jupyter-widgets/controls",
            "_model_module_version": "1.5.0",
            "_model_name": "ProgressStyleModel",
            "_view_count": null,
            "_view_module": "@jupyter-widgets/base",
            "_view_module_version": "1.2.0",
            "_view_name": "StyleView",
            "bar_color": null,
            "description_width": ""
          }
        }
      }
    }
  },
  "nbformat": 4,
  "nbformat_minor": 0
}
